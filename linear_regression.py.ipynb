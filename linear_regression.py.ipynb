{
 "cells": [
  {
   "cell_type": "code",
   "execution_count": 138,
   "id": "01c08fc0",
   "metadata": {},
   "outputs": [],
   "source": [
    "import pandas as pd"
   ]
  },
  {
   "cell_type": "code",
   "execution_count": 139,
   "id": "f3ad409d",
   "metadata": {},
   "outputs": [],
   "source": [
    "import numpy as np"
   ]
  },
  {
   "cell_type": "code",
   "execution_count": 140,
   "id": "ed324268",
   "metadata": {},
   "outputs": [],
   "source": [
    "x=[1,2,3,4,5,6,7]\n",
    "y=[1.5,3.8,6.7,9,11.2,13.6,16]"
   ]
  },
  {
   "cell_type": "code",
   "execution_count": 141,
   "id": "ab27f600",
   "metadata": {},
   "outputs": [],
   "source": [
    "df[\"x\"]=x\n",
    "df[\"y\"]=y"
   ]
  },
  {
   "cell_type": "code",
   "execution_count": 142,
   "id": "e8c95e23",
   "metadata": {
    "scrolled": true
   },
   "outputs": [
    {
     "data": {
      "text/html": [
       "<div>\n",
       "<style scoped>\n",
       "    .dataframe tbody tr th:only-of-type {\n",
       "        vertical-align: middle;\n",
       "    }\n",
       "\n",
       "    .dataframe tbody tr th {\n",
       "        vertical-align: top;\n",
       "    }\n",
       "\n",
       "    .dataframe thead th {\n",
       "        text-align: right;\n",
       "    }\n",
       "</style>\n",
       "<table border=\"1\" class=\"dataframe\">\n",
       "  <thead>\n",
       "    <tr style=\"text-align: right;\">\n",
       "      <th></th>\n",
       "      <th>x</th>\n",
       "      <th>y</th>\n",
       "      <th>xy</th>\n",
       "      <th>x^2</th>\n",
       "    </tr>\n",
       "  </thead>\n",
       "  <tbody>\n",
       "    <tr>\n",
       "      <th>0</th>\n",
       "      <td>1</td>\n",
       "      <td>1.5</td>\n",
       "      <td>1.5</td>\n",
       "      <td>1</td>\n",
       "    </tr>\n",
       "    <tr>\n",
       "      <th>1</th>\n",
       "      <td>2</td>\n",
       "      <td>3.8</td>\n",
       "      <td>7.6</td>\n",
       "      <td>4</td>\n",
       "    </tr>\n",
       "    <tr>\n",
       "      <th>2</th>\n",
       "      <td>3</td>\n",
       "      <td>6.7</td>\n",
       "      <td>20.1</td>\n",
       "      <td>9</td>\n",
       "    </tr>\n",
       "    <tr>\n",
       "      <th>3</th>\n",
       "      <td>4</td>\n",
       "      <td>9.0</td>\n",
       "      <td>36.0</td>\n",
       "      <td>16</td>\n",
       "    </tr>\n",
       "    <tr>\n",
       "      <th>4</th>\n",
       "      <td>5</td>\n",
       "      <td>11.2</td>\n",
       "      <td>56.0</td>\n",
       "      <td>25</td>\n",
       "    </tr>\n",
       "    <tr>\n",
       "      <th>5</th>\n",
       "      <td>6</td>\n",
       "      <td>13.6</td>\n",
       "      <td>81.6</td>\n",
       "      <td>36</td>\n",
       "    </tr>\n",
       "    <tr>\n",
       "      <th>6</th>\n",
       "      <td>7</td>\n",
       "      <td>16.0</td>\n",
       "      <td>112.0</td>\n",
       "      <td>49</td>\n",
       "    </tr>\n",
       "  </tbody>\n",
       "</table>\n",
       "</div>"
      ],
      "text/plain": [
       "   x     y     xy  x^2\n",
       "0  1   1.5    1.5    1\n",
       "1  2   3.8    7.6    4\n",
       "2  3   6.7   20.1    9\n",
       "3  4   9.0   36.0   16\n",
       "4  5  11.2   56.0   25\n",
       "5  6  13.6   81.6   36\n",
       "6  7  16.0  112.0   49"
      ]
     },
     "execution_count": 142,
     "metadata": {},
     "output_type": "execute_result"
    }
   ],
   "source": [
    "df"
   ]
  },
  {
   "cell_type": "markdown",
   "id": "78fac2b8",
   "metadata": {},
   "source": [
    "$$m = \\frac{n\\sum x y - \\sum x \\sum y}{n\\sum x^{2} - (\\sum x)^{2}}$$"
   ]
  },
  {
   "cell_type": "code",
   "execution_count": 143,
   "id": "bddd4cf7",
   "metadata": {},
   "outputs": [
    {
     "data": {
      "text/html": [
       "<div>\n",
       "<style scoped>\n",
       "    .dataframe tbody tr th:only-of-type {\n",
       "        vertical-align: middle;\n",
       "    }\n",
       "\n",
       "    .dataframe tbody tr th {\n",
       "        vertical-align: top;\n",
       "    }\n",
       "\n",
       "    .dataframe thead th {\n",
       "        text-align: right;\n",
       "    }\n",
       "</style>\n",
       "<table border=\"1\" class=\"dataframe\">\n",
       "  <thead>\n",
       "    <tr style=\"text-align: right;\">\n",
       "      <th></th>\n",
       "      <th>x</th>\n",
       "      <th>y</th>\n",
       "      <th>xy</th>\n",
       "      <th>x^2</th>\n",
       "    </tr>\n",
       "  </thead>\n",
       "  <tbody>\n",
       "    <tr>\n",
       "      <th>0</th>\n",
       "      <td>1</td>\n",
       "      <td>1.5</td>\n",
       "      <td>1.5</td>\n",
       "      <td>1</td>\n",
       "    </tr>\n",
       "    <tr>\n",
       "      <th>1</th>\n",
       "      <td>2</td>\n",
       "      <td>3.8</td>\n",
       "      <td>7.6</td>\n",
       "      <td>4</td>\n",
       "    </tr>\n",
       "    <tr>\n",
       "      <th>2</th>\n",
       "      <td>3</td>\n",
       "      <td>6.7</td>\n",
       "      <td>20.1</td>\n",
       "      <td>9</td>\n",
       "    </tr>\n",
       "    <tr>\n",
       "      <th>3</th>\n",
       "      <td>4</td>\n",
       "      <td>9.0</td>\n",
       "      <td>36.0</td>\n",
       "      <td>16</td>\n",
       "    </tr>\n",
       "    <tr>\n",
       "      <th>4</th>\n",
       "      <td>5</td>\n",
       "      <td>11.2</td>\n",
       "      <td>56.0</td>\n",
       "      <td>25</td>\n",
       "    </tr>\n",
       "    <tr>\n",
       "      <th>5</th>\n",
       "      <td>6</td>\n",
       "      <td>13.6</td>\n",
       "      <td>81.6</td>\n",
       "      <td>36</td>\n",
       "    </tr>\n",
       "    <tr>\n",
       "      <th>6</th>\n",
       "      <td>7</td>\n",
       "      <td>16.0</td>\n",
       "      <td>112.0</td>\n",
       "      <td>49</td>\n",
       "    </tr>\n",
       "  </tbody>\n",
       "</table>\n",
       "</div>"
      ],
      "text/plain": [
       "   x     y     xy  x^2\n",
       "0  1   1.5    1.5    1\n",
       "1  2   3.8    7.6    4\n",
       "2  3   6.7   20.1    9\n",
       "3  4   9.0   36.0   16\n",
       "4  5  11.2   56.0   25\n",
       "5  6  13.6   81.6   36\n",
       "6  7  16.0  112.0   49"
      ]
     },
     "execution_count": 143,
     "metadata": {},
     "output_type": "execute_result"
    }
   ],
   "source": [
    "df[\"xy\"]=df['x']*df['y']\n",
    "df[\"x^2\"]=df['x']**2\n",
    "df"
   ]
  },
  {
   "cell_type": "code",
   "execution_count": 144,
   "id": "9a52c97d",
   "metadata": {},
   "outputs": [
    {
     "name": "stdout",
     "output_type": "stream",
     "text": [
      "7 28 61.800000000000004 314.8 140 784\n"
     ]
    }
   ],
   "source": [
    "n=len(df)\n",
    "sum_x=df['x'].sum()\n",
    "sum_y=df['y'].sum()\n",
    "sum_xy=df['xy'].sum()\n",
    "sum_x_2=df['x^2'].sum()\n",
    "sum_h_2=sum_x**2\n",
    "print(n,sum_x,sum_y,sum_xy,sum_x_2,sum_h_2)"
   ]
  },
  {
   "cell_type": "code",
   "execution_count": 145,
   "id": "6aa70ff6",
   "metadata": {},
   "outputs": [],
   "source": [
    "numerator_m=n*(sum_xy)-((sum_x)*(sum_y))"
   ]
  },
  {
   "cell_type": "code",
   "execution_count": 146,
   "id": "08afd69a",
   "metadata": {},
   "outputs": [],
   "source": [
    "denominator_m=n*(sum_x_2)-(sum_h_2)"
   ]
  },
  {
   "cell_type": "code",
   "execution_count": 147,
   "id": "32e1a278",
   "metadata": {},
   "outputs": [
    {
     "name": "stdout",
     "output_type": "stream",
     "text": [
      "2.4142857142857133\n"
     ]
    }
   ],
   "source": [
    "m=numerator_m/denominator_m  #\"m\" value\n",
    "print(m)"
   ]
  },
  {
   "cell_type": "code",
   "execution_count": 148,
   "id": "70c7a26d",
   "metadata": {},
   "outputs": [],
   "source": [
    "c=(sum_y/n)-(numerator_m/denominator_m)*(sum_x/n)"
   ]
  },
  {
   "cell_type": "code",
   "execution_count": 149,
   "id": "ab897b3d",
   "metadata": {},
   "outputs": [
    {
     "name": "stdout",
     "output_type": "stream",
     "text": [
      "-0.8285714285714239\n"
     ]
    }
   ],
   "source": [
    "print(c)   #we got \"y\",\"m\",\"x\",\"c\" values"
   ]
  },
  {
   "cell_type": "markdown",
   "id": "cda39321",
   "metadata": {},
   "source": [
    "$$y_p=m\\sum_{i=1}^{n}x+c$$"
   ]
  },
  {
   "cell_type": "code",
   "execution_count": 160,
   "id": "c39832d2",
   "metadata": {},
   "outputs": [
    {
     "data": {
      "text/plain": [
       "[1.59, 4.0, 6.41, 8.83, 11.24, 13.66, 16.07]"
      ]
     },
     "execution_count": 160,
     "metadata": {},
     "output_type": "execute_result"
    }
   ],
   "source": [
    "y_p=[round((m*xi+c),2)for xi in df ['x']]\n",
    "y_p"
   ]
  },
  {
   "cell_type": "markdown",
   "id": "24a83338",
   "metadata": {},
   "source": [
    "$$squaredError=\\sum _{i=0}^{n}(y_p-y_org)^{2}$$"
   ]
  },
  {
   "cell_type": "code",
   "execution_count": 161,
   "id": "ef95552d",
   "metadata": {},
   "outputs": [],
   "source": [
    "squared_Error=sum([(y_p_values - y_org_values)**2\n",
    "               for y_p_values,y_org_values in zip(y_p,df['y'].values)])"
   ]
  },
  {
   "cell_type": "code",
   "execution_count": 162,
   "id": "19a304f7",
   "metadata": {},
   "outputs": [
    {
     "data": {
      "text/plain": [
       "0.17120000000000024"
      ]
     },
     "execution_count": 162,
     "metadata": {},
     "output_type": "execute_result"
    }
   ],
   "source": [
    "squared_Error"
   ]
  },
  {
   "cell_type": "code",
   "execution_count": 163,
   "id": "51a44279",
   "metadata": {},
   "outputs": [],
   "source": [
    "import matplotlib.pyplot as plt"
   ]
  },
  {
   "cell_type": "code",
   "execution_count": 169,
   "id": "5514dbc5",
   "metadata": {},
   "outputs": [
    {
     "data": {
      "text/plain": [
       "<function matplotlib.pyplot.show(close=None, block=None)>"
      ]
     },
     "execution_count": 169,
     "metadata": {},
     "output_type": "execute_result"
    },
    {
     "data": {
      "image/png": "[encoded data removed]",
      "text/plain": [
       "<Figure size 432x288 with 1 Axes>"
      ]
     },
     "metadata": {
      "needs_background": "light"
     },
     "output_type": "display_data"
    }
   ],
   "source": [
    "plt.scatter(list(range(len(df))),df['y'].values,label=\"original\")\n",
    "plt.plot(list(range(len(df))),y_p,c='k',label=\"predicted\")\n",
    "plt.scatter(list(range(len(df))),y_p,c='r',label=\"predicted_s\")\n",
    "plt.legend()\n",
    "plt.show"
   ]
  },
  {
   "cell_type": "code",
   "execution_count": null,
   "id": "63a46cc5",
   "metadata": {},
   "outputs": [],
   "source": []
  },
  {
   "cell_type": "code",
   "execution_count": null,
   "id": "5ec10713",
   "metadata": {},
   "outputs": [],
   "source": []
  }
 ],
 "metadata": {
  "kernelspec": {
   "display_name": "Python 3",
   "language": "python",
   "name": "python3"
  },
  "language_info": {
   "codemirror_mode": {
    "name": "ipython",
    "version": 3
   },
   "file_extension": ".py",
   "mimetype": "text/x-python",
   "name": "python",
   "nbconvert_exporter": "python",
   "pygments_lexer": "ipython3",
   "version": "3.8.8"
  }
 },
 "nbformat": 4,
 "nbformat_minor": 5
}
